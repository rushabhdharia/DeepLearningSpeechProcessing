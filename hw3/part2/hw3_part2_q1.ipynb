{
 "cells": [
  {
   "cell_type": "markdown",
   "metadata": {},
   "source": [
    "## Q1"
   ]
  },
  {
   "cell_type": "code",
   "execution_count": 1,
   "metadata": {},
   "outputs": [],
   "source": [
    "import librosa\n",
    "import random\n",
    "import numpy as np\n",
    "from os import listdir"
   ]
  },
  {
   "cell_type": "code",
   "execution_count": 2,
   "metadata": {
    "scrolled": true
   },
   "outputs": [],
   "source": [
    "noise_folder_path = 'NoiseData/' \n",
    "babbling_noise, sr = librosa.load(noise_folder_path + \"adtBabble2.wav\", sr = None)\n",
    "b_len = len(babbling_noise)\n",
    "# print(sr, b_len)\n",
    "cafe_noise, sr = librosa.load(noise_folder_path + \"adtCafe.wav\",  sr = None)\n",
    "c_len = len(cafe_noise)\n",
    "# print(sr, c_len)\n",
    "restaurant_noise, sr = librosa.load(noise_folder_path + \"Live_Restaurant.wav\",  sr = 16000)\n",
    "r_len = len(restaurant_noise)\n",
    "# print(sr, r_len)"
   ]
  },
  {
   "cell_type": "code",
   "execution_count": 3,
   "metadata": {},
   "outputs": [],
   "source": [
    "b_noise_1 = babbling_noise[:b_len//2]\n",
    "b_noise_2 = babbling_noise[b_len//2:]\n",
    "# print(len(b_noise_1), len(b_noise_2))\n",
    "\n",
    "c_noise_1 = cafe_noise[:c_len//2]\n",
    "c_noise_2 = cafe_noise[c_len//2:]\n",
    "# print(len(c_noise_1), len(c_noise_2))\n",
    "\n",
    "r_noise_1 = restaurant_noise[:r_len//2]\n",
    "r_noise_2 = restaurant_noise[r_len//2:]\n",
    "# print(len(r_noise_1), len(r_noise_2))"
   ]
  },
  {
   "cell_type": "code",
   "execution_count": 4,
   "metadata": {},
   "outputs": [],
   "source": [
    "noise_train = [b_noise_1, c_noise_1, r_noise_1]\n",
    "noise_test = [b_noise_2, c_noise_2, r_noise_2]"
   ]
  },
  {
   "cell_type": "code",
   "execution_count": 5,
   "metadata": {},
   "outputs": [],
   "source": [
    "speech_male_path = \"SpeechData/male/\"\n",
    "speech_female_path = \"SpeechData/female/\"\n",
    "generated_data_path = \"GeneratedData/\"\n",
    "clean_save_path = generated_data_path + \"Training/Clean/\"\n",
    "dirty_save_path = generated_data_path + \"Training/Dirty/\""
   ]
  },
  {
   "cell_type": "code",
   "execution_count": 6,
   "metadata": {},
   "outputs": [],
   "source": [
    "speech_male_path_train = speech_male_path+\"train/\"\n",
    "speech_male_path_dev = speech_male_path+\"dev/\"\n",
    "speech_male_path_test = speech_male_path + \"test/\""
   ]
  },
  {
   "cell_type": "code",
   "execution_count": 7,
   "metadata": {},
   "outputs": [],
   "source": [
    "speech_female_path_train = speech_female_path+\"train/\"\n",
    "speech_female_path_dev = speech_female_path+\"dev/\"\n",
    "speech_female_path_test = speech_female_path + \"test/\""
   ]
  },
  {
   "cell_type": "code",
   "execution_count": 8,
   "metadata": {},
   "outputs": [
    {
     "name": "stdout",
     "output_type": "stream",
     "text": [
      "500\n"
     ]
    }
   ],
   "source": [
    "list_male_train = listdir(speech_male_path_train)\n",
    "list_female_train = listdir(speech_female_path_train)\n",
    "print(len(list_male_train))"
   ]
  },
  {
   "cell_type": "code",
   "execution_count": 9,
   "metadata": {},
   "outputs": [],
   "source": [
    "def generate_noisy_signal(signal, noise, dsnr):\n",
    "    b_square = np.sum(np.square(signal))/np.sum(np.square(noise))\n",
    "    b_square = b_square/(10**(dsnr/10))\n",
    "    b = np.sqrt(b_square)\n",
    "    return signal + b*noise"
   ]
  },
  {
   "cell_type": "code",
   "execution_count": 10,
   "metadata": {},
   "outputs": [],
   "source": [
    "def generate_signals(signal_list, path, noise_train, dsnr, clean_save_path, dirty_save_path, count):\n",
    "    \n",
    "    for i in signal_list:\n",
    "        speech, sr = librosa.load(path+i, sr = 16000)\n",
    "        len_speech = len(speech)\n",
    "\n",
    "        for j in noise_train:\n",
    "            len_noise = len(j)\n",
    "            start = random.randint(0, len_noise-len_speech)\n",
    "            end = start + len_speech\n",
    "            noise_segment = j[start:end]\n",
    "\n",
    "            for k in dsnr:\n",
    "                noisy_signal = generate_noisy_signal(speech, noise_segment, k)\n",
    "                librosa.output.write_wav(clean_save_path + 'clean_'+str(count)+'.wav', speech, sr)\n",
    "                librosa.output.write_wav(dirty_save_path + 'dirty_'+str(count)+'.wav', noisy_signal, sr)\n",
    "                count += 1 \n",
    "                if count%500 == 0:\n",
    "                    print(count)\n",
    "    \n",
    "    return count"
   ]
  },
  {
   "cell_type": "code",
   "execution_count": 11,
   "metadata": {},
   "outputs": [
    {
     "name": "stdout",
     "output_type": "stream",
     "text": [
      "500\n",
      "1000\n",
      "1500\n",
      "2000\n",
      "2500\n",
      "3000\n",
      "3500\n",
      "4000\n",
      "4500\n",
      "5000\n",
      "5500\n",
      "6000\n",
      "6500\n",
      "7000\n",
      "7500\n",
      "8000\n",
      "8500\n",
      "9000\n"
     ]
    }
   ],
   "source": [
    "dsnr = [-3, 0, 3]\n",
    "count = 1\n",
    "count = generate_signals(list_male_train, speech_male_path_train, noise_train, dsnr, clean_save_path, dirty_save_path, count)\n",
    "count = generate_signals(list_female_train, speech_female_path_train, noise_train, dsnr, clean_save_path, dirty_save_path, count)"
   ]
  },
  {
   "cell_type": "code",
   "execution_count": 12,
   "metadata": {},
   "outputs": [],
   "source": [
    "clean_dev_path = generated_data_path + \"Dev/Clean/\"\n",
    "dirty_dev_path = generated_data_path + \"Dev/Dirty/\"\n",
    "\n",
    "list_male_dev = listdir(speech_male_path_dev)\n",
    "list_female_dev = listdir(speech_female_path_dev)"
   ]
  },
  {
   "cell_type": "code",
   "execution_count": 13,
   "metadata": {},
   "outputs": [
    {
     "name": "stdout",
     "output_type": "stream",
     "text": [
      "500\n",
      "1000\n",
      "1500\n"
     ]
    }
   ],
   "source": [
    "count = 1\n",
    "count = generate_signals(list_male_dev, speech_male_path_dev, noise_train, dsnr, clean_dev_path, dirty_dev_path, count)\n",
    "count = generate_signals(list_female_dev, speech_female_path_dev, noise_train, dsnr, clean_dev_path, dirty_dev_path, count)"
   ]
  },
  {
   "cell_type": "code",
   "execution_count": 14,
   "metadata": {},
   "outputs": [],
   "source": [
    "clean_test_path = generated_data_path + \"Test/Clean/\"\n",
    "dirty_test_path = generated_data_path + \"Test/Dirty/\"\n",
    "\n",
    "list_male_test = listdir(speech_male_path_test)\n",
    "list_female_test = listdir(speech_female_path_test)"
   ]
  },
  {
   "cell_type": "code",
   "execution_count": 15,
   "metadata": {},
   "outputs": [
    {
     "name": "stdout",
     "output_type": "stream",
     "text": [
      "500\n",
      "1000\n",
      "1500\n",
      "2000\n"
     ]
    }
   ],
   "source": [
    "count = 1\n",
    "count = generate_signals(list_male_test, speech_male_path_test, noise_test, dsnr, clean_test_path, dirty_test_path, count)\n",
    "count = generate_signals(list_female_test, speech_female_path_test, noise_test, dsnr, clean_test_path, dirty_test_path, count)"
   ]
  }
 ],
 "metadata": {
  "kernelspec": {
   "display_name": "Python 3",
   "language": "python",
   "name": "python3"
  },
  "language_info": {
   "codemirror_mode": {
    "name": "ipython",
    "version": 3
   },
   "file_extension": ".py",
   "mimetype": "text/x-python",
   "name": "python",
   "nbconvert_exporter": "python",
   "pygments_lexer": "ipython3",
   "version": "3.7.3"
  }
 },
 "nbformat": 4,
 "nbformat_minor": 2
}
