{
 "cells": [
  {
   "cell_type": "code",
   "execution_count": 1,
   "metadata": {},
   "outputs": [],
   "source": [
    "import numpy as np"
   ]
  },
  {
   "cell_type": "code",
   "execution_count": 3,
   "metadata": {},
   "outputs": [],
   "source": [
    "path = './GeneratedData/npy/train/'"
   ]
  },
  {
   "cell_type": "code",
   "execution_count": 2,
   "metadata": {},
   "outputs": [
    {
     "name": "stdout",
     "output_type": "stream",
     "text": [
      "(257, 2290473)\n"
     ]
    }
   ],
   "source": [
    "dirty_data = []\n",
    "\n",
    "for i in range(9000):\n",
    "    index = i+1\n",
    "    dirtyFile = path + 'dirty_stft/dirty' + str(index) + '.npy'\n",
    "    dirty = np.load(dirtyFile)\n",
    "    dirty_data.append(dirty)\n",
    "        \n",
    "dirty_data = np.hstack(dirty_data)\n",
    "print(dirty_data.shape)\n",
    "\n",
    "file = './GeneratedData/npy/dirty_train.npy'\n",
    "np.save(file, dirty_data)"
   ]
  },
  {
   "cell_type": "code",
   "execution_count": 3,
   "metadata": {},
   "outputs": [
    {
     "name": "stdout",
     "output_type": "stream",
     "text": [
      "(257, 2290473)\n"
     ]
    }
   ],
   "source": [
    "clean_data = []\n",
    "for i in range(9000):\n",
    "    index = i+1\n",
    "        \n",
    "    cleanFile = path + 'clean_stft/clean' + str(index) + '.npy'\n",
    "    clean = np.abs(np.load(cleanFile))\n",
    "    clean_data.append(clean)\n",
    "        \n",
    "clean_data = np.hstack(clean_data)\n",
    "print(clean_data.shape)\n",
    "\n",
    "file = './GeneratedData/npy/clean_train.npy'\n",
    "np.save(file, clean_data)"
   ]
  },
  {
   "cell_type": "code",
   "execution_count": 4,
   "metadata": {},
   "outputs": [
    {
     "name": "stdout",
     "output_type": "stream",
     "text": [
      "(257, 2290473)\n"
     ]
    }
   ],
   "source": [
    "norm_data = []\n",
    "for i in range(9000):\n",
    "    index = i+1\n",
    "        \n",
    "    normFile = path + 'norm_stft/norm' + str(index) + '.npy'\n",
    "    norm = np.load(normFile)\n",
    "    norm_data.append(norm)\n",
    "        \n",
    "norm_data = np.hstack(norm_data)\n",
    "print(norm_data.shape)\n",
    "\n",
    "file = './GeneratedData/npy/norm_train.npy'\n",
    "np.save(file, norm_data)"
   ]
  },
  {
   "cell_type": "code",
   "execution_count": 4,
   "metadata": {},
   "outputs": [
    {
     "name": "stdout",
     "output_type": "stream",
     "text": [
      "(257, 2290473)\n"
     ]
    }
   ],
   "source": [
    "std_data = []\n",
    "for i in range(9000):\n",
    "    index = i+1\n",
    "        \n",
    "    stdFile = path + 'std_stft/std' + str(index) + '.npy'\n",
    "    std = np.load(stdFile)\n",
    "    std_data.append(std)\n",
    "        \n",
    "std_data = np.hstack(std_data)\n",
    "print(std_data.shape)\n",
    "\n",
    "file = './GeneratedData/npy/std_train.npy'\n",
    "np.save(file, std_data)"
   ]
  },
  {
   "cell_type": "code",
   "execution_count": null,
   "metadata": {},
   "outputs": [],
   "source": []
  }
 ],
 "metadata": {
  "kernelspec": {
   "display_name": "Python 3",
   "language": "python",
   "name": "python3"
  },
  "language_info": {
   "codemirror_mode": {
    "name": "ipython",
    "version": 3
   },
   "file_extension": ".py",
   "mimetype": "text/x-python",
   "name": "python",
   "nbconvert_exporter": "python",
   "pygments_lexer": "ipython3",
   "version": "3.7.3"
  }
 },
 "nbformat": 4,
 "nbformat_minor": 2
}
