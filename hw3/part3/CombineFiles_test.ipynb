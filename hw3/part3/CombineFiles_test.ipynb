{
 "cells": [
  {
   "cell_type": "code",
   "execution_count": 1,
   "metadata": {},
   "outputs": [],
   "source": [
    "import numpy as np"
   ]
  },
  {
   "cell_type": "code",
   "execution_count": 2,
   "metadata": {},
   "outputs": [
    {
     "name": "stdout",
     "output_type": "stream",
     "text": [
      "(257, 566532)\n"
     ]
    }
   ],
   "source": [
    "dirty_data = []\n",
    "\n",
    "path = './GeneratedData/npy/Test/'\n",
    "\n",
    "for i in range(2160):\n",
    "    index = i+1\n",
    "    dirtyFile = path + 'dirty_stft/dirty' + str(index) + '.npy'\n",
    "    dirty = np.abs(np.load(dirtyFile))\n",
    "    dirty_data.append(dirty)\n",
    "        \n",
    "dirty_data = np.hstack(dirty_data)\n",
    "print(dirty_data.shape)\n",
    "\n",
    "file = './GeneratedData/npy/dirty_test.npy'\n",
    "np.save(file, dirty_data)"
   ]
  },
  {
   "cell_type": "code",
   "execution_count": 3,
   "metadata": {},
   "outputs": [
    {
     "name": "stdout",
     "output_type": "stream",
     "text": [
      "(257, 566532)\n"
     ]
    }
   ],
   "source": [
    "clean_data = []\n",
    "for i in range(2160):\n",
    "    index = i+1\n",
    "        \n",
    "    cleanFile = path + 'clean_stft/clean' + str(index) + '.npy'\n",
    "    clean = np.abs(np.load(cleanFile))\n",
    "    clean_data.append(clean)\n",
    "        \n",
    "clean_data = np.hstack(clean_data)\n",
    "print(clean_data.shape)\n",
    "\n",
    "file = './GeneratedData/npy/clean_test.npy'\n",
    "np.save(file, clean_data)"
   ]
  },
  {
   "cell_type": "code",
   "execution_count": 4,
   "metadata": {},
   "outputs": [],
   "source": [
    "path = './GeneratedData/npy/'"
   ]
  },
  {
   "cell_type": "code",
   "execution_count": 6,
   "metadata": {},
   "outputs": [
    {
     "data": {
      "text/plain": [
       "(257, 566532)"
      ]
     },
     "execution_count": 6,
     "metadata": {},
     "output_type": "execute_result"
    }
   ],
   "source": [
    "file = path + 'dirty_test.npy'\n",
    "a = np.load(file)\n",
    "a.shape"
   ]
  },
  {
   "cell_type": "code",
   "execution_count": 8,
   "metadata": {},
   "outputs": [
    {
     "data": {
      "text/plain": [
       "(257,)"
      ]
     },
     "execution_count": 8,
     "metadata": {},
     "output_type": "execute_result"
    }
   ],
   "source": [
    "np.max(a, axis=1).shape"
   ]
  },
  {
   "cell_type": "code",
   "execution_count": 9,
   "metadata": {},
   "outputs": [
    {
     "data": {
      "text/plain": [
       "(257,)"
      ]
     },
     "execution_count": 9,
     "metadata": {},
     "output_type": "execute_result"
    }
   ],
   "source": [
    "np.min(a, axis=1).shape"
   ]
  },
  {
   "cell_type": "code",
   "execution_count": 10,
   "metadata": {},
   "outputs": [
    {
     "data": {
      "text/plain": [
       "(257,)"
      ]
     },
     "execution_count": 10,
     "metadata": {},
     "output_type": "execute_result"
    }
   ],
   "source": [
    "np.std(a, axis=1).shape"
   ]
  },
  {
   "cell_type": "code",
   "execution_count": 11,
   "metadata": {},
   "outputs": [
    {
     "data": {
      "text/plain": [
       "(257,)"
      ]
     },
     "execution_count": 11,
     "metadata": {},
     "output_type": "execute_result"
    }
   ],
   "source": [
    "np.mean(a, axis=1).shape"
   ]
  },
  {
   "cell_type": "code",
   "execution_count": null,
   "metadata": {},
   "outputs": [],
   "source": []
  }
 ],
 "metadata": {
  "kernelspec": {
   "display_name": "Python 3",
   "language": "python",
   "name": "python3"
  },
  "language_info": {
   "codemirror_mode": {
    "name": "ipython",
    "version": 3
   },
   "file_extension": ".py",
   "mimetype": "text/x-python",
   "name": "python",
   "nbconvert_exporter": "python",
   "pygments_lexer": "ipython3",
   "version": "3.7.3"
  }
 },
 "nbformat": 4,
 "nbformat_minor": 2
}
