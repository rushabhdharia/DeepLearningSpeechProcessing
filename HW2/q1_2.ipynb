{
 "cells": [
  {
   "cell_type": "code",
   "execution_count": null,
   "metadata": {},
   "outputs": [],
   "source": [
    "import numpy as np\n",
    "import sys\n",
    "import matplotlib.pyplot as plt\n",
    "import soundfile as sndfl"
   ]
  },
  {
   "cell_type": "code",
   "execution_count": null,
   "metadata": {},
   "outputs": [],
   "source": [
    "def stft(signal, N, window_type, window_length, L, fs):\n",
    "    \n",
    "    if window_type == \"hamming\":\n",
    "        w_m = np.hamming(window_length)\n",
    "    else:\n",
    "        return\n",
    "\n",
    "    w_m =  np.flip(w_m)\n",
    "    \n",
    "    i = 0\n",
    "    len_signal = len(signal)\n",
    "\n",
    "    segments = []\n",
    "    while i < len_signal:\n",
    "        if (window_length + i < len_signal):\n",
    "            segment = signal[i: window_length+i]\n",
    "        else:\n",
    "            temp = signal[i:]\n",
    "            segment = np.zeros(window_length)\n",
    "            segment[:temp.shape[0]] = temp\n",
    "            M = np.arange(i, len(signal))\n",
    "        #prod = segment * w_m\n",
    "        segments.append(segment)\n",
    "        i+=L\n",
    "        \n",
    "    segments = np.array(segments)    \n",
    "    print(segments.shape)\n",
    "    w_m = np.array([w_m]*len(segments))   \n",
    "    \n",
    "    prod = np.multiply(segments, w_m)\n",
    "     \n",
    "    E = []\n",
    "    for i in range(N):\n",
    "        e_row = []\n",
    "        for j in range(i*L, i*L+window_length):\n",
    "            e = -2j*np.pi*i*j/N\n",
    "            e_row.append(e)\n",
    "        E.append(e_row)\n",
    "    \n",
    "    exp = np.array(np.exp(E))\n",
    "    print(exp.shape)    \n",
    "    X_temp = np.dot(prod, exp.T)\n",
    "    \n",
    "    X = 20*np.log10(np.abs(X_temp.T))\n",
    "    \n",
    "    plt.figure(figsize=(10,10))\n",
    "    \n",
    "    plt.imshow(X)\n",
    "    return X_temp"
   ]
  },
  {
   "cell_type": "code",
   "execution_count": null,
   "metadata": {},
   "outputs": [],
   "source": [
    "signal, fs = sndfl.read(\"speech2.wav\")\n",
    "N = [256, 256, 512, 1024, 2048]\n",
    "window_type = \"hamming\"\n",
    "window_length = [10, 20, 40, 80, 160]\n",
    "L = [5, 10, 20, 40, 80]\n",
    "X = []\n",
    "for i in range(len(N)):\n",
    "    x = stft(signal, N[i], window_type, int(window_length[i]*fs/1000), int(L[i]*fs/1000), fs)\n",
    "    X.append(x)\n",
    "    #     break\n",
    "#     sys.exit()\n",
    "#     input(\"Press Enter to continue...\")"
   ]
  },
  {
   "cell_type": "code",
   "execution_count": null,
   "metadata": {},
   "outputs": [],
   "source": [
    "def ola(signal, N, window_length, L, fs):\n",
    "    E = []\n",
    "    for i in range(N):\n",
    "        e_row = []\n",
    "        for j in range(i*L, i*L+window_length):\n",
    "            e = 2j*np.pi*i*j/N\n",
    "            e_row.append(e)\n",
    "        E.append(e_row)\n",
    "    \n",
    "    exp = np.array(np.exp(E))\n",
    "    print(exp.shape)   \n",
    "    print(signal.shape)\n",
    "    prod = L*np.sum(np.dot(signal, exp), axis=1)/N\n",
    "    print(prod.shape)"
   ]
  },
  {
   "cell_type": "code",
   "execution_count": null,
   "metadata": {},
   "outputs": [],
   "source": [
    "for i in range(len(N)):\n",
    "    ola(X[i], N[i], int(window_length[i]*fs/1000), int(L[i]*fs/1000), fs)\n",
    "    break"
   ]
  },
  {
   "cell_type": "code",
   "execution_count": null,
   "metadata": {},
   "outputs": [],
   "source": []
  }
 ],
 "metadata": {
  "kernelspec": {
   "display_name": "Python 3",
   "language": "python",
   "name": "python3"
  },
  "language_info": {
   "codemirror_mode": {
    "name": "ipython",
    "version": 3
   },
   "file_extension": ".py",
   "mimetype": "text/x-python",
   "name": "python",
   "nbconvert_exporter": "python",
   "pygments_lexer": "ipython3",
   "version": "3.7.3"
  }
 },
 "nbformat": 4,
 "nbformat_minor": 2
}
